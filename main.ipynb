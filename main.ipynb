{
 "cells": [
  {
   "cell_type": "code",
   "execution_count": 46,
   "id": "1877e264",
   "metadata": {},
   "outputs": [],
   "source": [
    "import pandas as pd \n",
    "import numpy as np "
   ]
  },
  {
   "cell_type": "code",
   "execution_count": 47,
   "id": "0b31c211",
   "metadata": {},
   "outputs": [],
   "source": [
    "db_members = pd.read_csv(\"tables/members_v3.csv\")\n",
    "db_train = pd.read_csv(\"tables/train_v2.csv\")\n",
    "db_transactions = pd.read_csv(\"tables/transactions_v2.csv\")"
   ]
  },
  {
   "cell_type": "code",
   "execution_count": 48,
   "id": "85e3635d",
   "metadata": {},
   "outputs": [
    {
     "name": "stdout",
     "output_type": "stream",
     "text": [
      "               city            bd  registered_via  registration_init_time\n",
      "count  2.339968e+06  2.339968e+06    2.339968e+06            2.339968e+06\n",
      "mean   8.658488e+00  2.781557e+01    5.252725e+00            2.013124e+07\n",
      "std    6.627701e+00  1.851081e+01    2.748238e+00            3.030759e+04\n",
      "min    1.000000e+00 -6.998000e+03    1.000000e+00            2.004033e+07\n",
      "25%    4.000000e+00  2.000000e+01    3.000000e+00            2.012040e+07\n",
      "50%    6.000000e+00  2.600000e+01    3.000000e+00            2.014101e+07\n",
      "75%    1.300000e+01  3.500000e+01    9.000000e+00            2.015082e+07\n",
      "max    2.200000e+01  1.970000e+03    1.900000e+01            2.017043e+07\n",
      "Null Values\n",
      "msno                      0\n",
      "city                      0\n",
      "bd                        0\n",
      "gender                    0\n",
      "registered_via            0\n",
      "registration_init_time    0\n",
      "dtype: int64\n"
     ]
    }
   ],
   "source": [
    "print(db_members.describe())\n",
    "print(\"Null Values\")\n",
    "print(db_members.isna().sum())"
   ]
  },
  {
   "cell_type": "code",
   "execution_count": 49,
   "id": "344631b5",
   "metadata": {},
   "outputs": [
    {
     "data": {
      "text/html": [
       "<div>\n",
       "<style scoped>\n",
       "    .dataframe tbody tr th:only-of-type {\n",
       "        vertical-align: middle;\n",
       "    }\n",
       "\n",
       "    .dataframe tbody tr th {\n",
       "        vertical-align: top;\n",
       "    }\n",
       "\n",
       "    .dataframe thead th {\n",
       "        text-align: right;\n",
       "    }\n",
       "</style>\n",
       "<table border=\"1\" class=\"dataframe\">\n",
       "  <thead>\n",
       "    <tr style=\"text-align: right;\">\n",
       "      <th></th>\n",
       "      <th>msno</th>\n",
       "      <th>city</th>\n",
       "      <th>bd</th>\n",
       "      <th>gender</th>\n",
       "      <th>registered_via</th>\n",
       "      <th>registration_init_time</th>\n",
       "    </tr>\n",
       "  </thead>\n",
       "  <tbody>\n",
       "    <tr>\n",
       "      <th>0</th>\n",
       "      <td>WFLY3s7z4EZsieHCt63XrsdtfTEmJ+2PnnKLH5GY4Tk=</td>\n",
       "      <td>6</td>\n",
       "      <td>32</td>\n",
       "      <td>female</td>\n",
       "      <td>9</td>\n",
       "      <td>20110915</td>\n",
       "    </tr>\n",
       "    <tr>\n",
       "      <th>1</th>\n",
       "      <td>yLkV2gbZ4GLFwqTOXLVHz0VGrMYcgBGgKZ3kj9RiYu8=</td>\n",
       "      <td>4</td>\n",
       "      <td>30</td>\n",
       "      <td>male</td>\n",
       "      <td>9</td>\n",
       "      <td>20110916</td>\n",
       "    </tr>\n",
       "    <tr>\n",
       "      <th>2</th>\n",
       "      <td>WH5Jq4mgtfUFXh2yz+HrcTXKS4Oess4k4W3qKolAeb0=</td>\n",
       "      <td>5</td>\n",
       "      <td>34</td>\n",
       "      <td>male</td>\n",
       "      <td>9</td>\n",
       "      <td>20110916</td>\n",
       "    </tr>\n",
       "    <tr>\n",
       "      <th>3</th>\n",
       "      <td>tKmbR4X5VXjHmxERrckawEMZ4znVy1lAQIR1vV5rdNk=</td>\n",
       "      <td>5</td>\n",
       "      <td>19</td>\n",
       "      <td>male</td>\n",
       "      <td>9</td>\n",
       "      <td>20110917</td>\n",
       "    </tr>\n",
       "    <tr>\n",
       "      <th>4</th>\n",
       "      <td>I0yFvqMoNkM8ZNHb617e1RBzIS/YRKemHO7Wj13EtA0=</td>\n",
       "      <td>13</td>\n",
       "      <td>63</td>\n",
       "      <td>male</td>\n",
       "      <td>9</td>\n",
       "      <td>20110918</td>\n",
       "    </tr>\n",
       "  </tbody>\n",
       "</table>\n",
       "</div>"
      ],
      "text/plain": [
       "                                           msno  city  bd  gender  \\\n",
       "0  WFLY3s7z4EZsieHCt63XrsdtfTEmJ+2PnnKLH5GY4Tk=     6  32  female   \n",
       "1  yLkV2gbZ4GLFwqTOXLVHz0VGrMYcgBGgKZ3kj9RiYu8=     4  30    male   \n",
       "2  WH5Jq4mgtfUFXh2yz+HrcTXKS4Oess4k4W3qKolAeb0=     5  34    male   \n",
       "3  tKmbR4X5VXjHmxERrckawEMZ4znVy1lAQIR1vV5rdNk=     5  19    male   \n",
       "4  I0yFvqMoNkM8ZNHb617e1RBzIS/YRKemHO7Wj13EtA0=    13  63    male   \n",
       "\n",
       "   registered_via  registration_init_time  \n",
       "0               9                20110915  \n",
       "1               9                20110916  \n",
       "2               9                20110916  \n",
       "3               9                20110917  \n",
       "4               9                20110918  "
      ]
     },
     "execution_count": 49,
     "metadata": {},
     "output_type": "execute_result"
    }
   ],
   "source": [
    "db_members.head()"
   ]
  },
  {
   "cell_type": "code",
   "execution_count": 50,
   "id": "41bfdba0",
   "metadata": {},
   "outputs": [
    {
     "name": "stdout",
     "output_type": "stream",
     "text": [
      "            is_churn\n",
      "count  970960.000000\n",
      "mean        0.089942\n",
      "std         0.286099\n",
      "min         0.000000\n",
      "25%         0.000000\n",
      "50%         0.000000\n",
      "75%         0.000000\n",
      "max         1.000000\n",
      "Null Values\n",
      "msno        0\n",
      "is_churn    0\n",
      "dtype: int64\n"
     ]
    }
   ],
   "source": [
    "print(db_train.describe())\n",
    "print(\"Null Values\")\n",
    "print(db_train.isna().sum())"
   ]
  },
  {
   "cell_type": "code",
   "execution_count": 51,
   "id": "e25dc950",
   "metadata": {},
   "outputs": [
    {
     "data": {
      "text/html": [
       "<div>\n",
       "<style scoped>\n",
       "    .dataframe tbody tr th:only-of-type {\n",
       "        vertical-align: middle;\n",
       "    }\n",
       "\n",
       "    .dataframe tbody tr th {\n",
       "        vertical-align: top;\n",
       "    }\n",
       "\n",
       "    .dataframe thead th {\n",
       "        text-align: right;\n",
       "    }\n",
       "</style>\n",
       "<table border=\"1\" class=\"dataframe\">\n",
       "  <thead>\n",
       "    <tr style=\"text-align: right;\">\n",
       "      <th></th>\n",
       "      <th>msno</th>\n",
       "      <th>payment_method_id</th>\n",
       "      <th>payment_plan_days</th>\n",
       "      <th>plan_list_price</th>\n",
       "      <th>actual_amount_paid</th>\n",
       "      <th>is_auto_renew</th>\n",
       "      <th>transaction_date</th>\n",
       "      <th>membership_expire_date</th>\n",
       "      <th>is_cancel</th>\n",
       "    </tr>\n",
       "  </thead>\n",
       "  <tbody>\n",
       "    <tr>\n",
       "      <th>0</th>\n",
       "      <td>++6eU4LsQ3UQ20ILS7d99XK8WbiVgbyYL4FUgzZR134=</td>\n",
       "      <td>32</td>\n",
       "      <td>90</td>\n",
       "      <td>298</td>\n",
       "      <td>298</td>\n",
       "      <td>0</td>\n",
       "      <td>20170131</td>\n",
       "      <td>20170504</td>\n",
       "      <td>0</td>\n",
       "    </tr>\n",
       "    <tr>\n",
       "      <th>1</th>\n",
       "      <td>++lvGPJOinuin/8esghpnqdljm6NXS8m8Zwchc7gOeA=</td>\n",
       "      <td>41</td>\n",
       "      <td>30</td>\n",
       "      <td>149</td>\n",
       "      <td>149</td>\n",
       "      <td>1</td>\n",
       "      <td>20150809</td>\n",
       "      <td>20190412</td>\n",
       "      <td>0</td>\n",
       "    </tr>\n",
       "    <tr>\n",
       "      <th>2</th>\n",
       "      <td>+/GXNtXWQVfKrEDqYAzcSw2xSPYMKWNj22m+5XkVQZc=</td>\n",
       "      <td>36</td>\n",
       "      <td>30</td>\n",
       "      <td>180</td>\n",
       "      <td>180</td>\n",
       "      <td>1</td>\n",
       "      <td>20170303</td>\n",
       "      <td>20170422</td>\n",
       "      <td>0</td>\n",
       "    </tr>\n",
       "    <tr>\n",
       "      <th>3</th>\n",
       "      <td>+/w1UrZwyka4C9oNH3+Q8fUf3fD8R3EwWrx57ODIsqk=</td>\n",
       "      <td>36</td>\n",
       "      <td>30</td>\n",
       "      <td>180</td>\n",
       "      <td>180</td>\n",
       "      <td>1</td>\n",
       "      <td>20170329</td>\n",
       "      <td>20170331</td>\n",
       "      <td>1</td>\n",
       "    </tr>\n",
       "    <tr>\n",
       "      <th>4</th>\n",
       "      <td>+00PGzKTYqtnb65mPKPyeHXcZEwqiEzktpQksaaSC3c=</td>\n",
       "      <td>41</td>\n",
       "      <td>30</td>\n",
       "      <td>99</td>\n",
       "      <td>99</td>\n",
       "      <td>1</td>\n",
       "      <td>20170323</td>\n",
       "      <td>20170423</td>\n",
       "      <td>0</td>\n",
       "    </tr>\n",
       "  </tbody>\n",
       "</table>\n",
       "</div>"
      ],
      "text/plain": [
       "                                           msno  payment_method_id  \\\n",
       "0  ++6eU4LsQ3UQ20ILS7d99XK8WbiVgbyYL4FUgzZR134=                 32   \n",
       "1  ++lvGPJOinuin/8esghpnqdljm6NXS8m8Zwchc7gOeA=                 41   \n",
       "2  +/GXNtXWQVfKrEDqYAzcSw2xSPYMKWNj22m+5XkVQZc=                 36   \n",
       "3  +/w1UrZwyka4C9oNH3+Q8fUf3fD8R3EwWrx57ODIsqk=                 36   \n",
       "4  +00PGzKTYqtnb65mPKPyeHXcZEwqiEzktpQksaaSC3c=                 41   \n",
       "\n",
       "   payment_plan_days  plan_list_price  actual_amount_paid  is_auto_renew  \\\n",
       "0                 90              298                 298              0   \n",
       "1                 30              149                 149              1   \n",
       "2                 30              180                 180              1   \n",
       "3                 30              180                 180              1   \n",
       "4                 30               99                  99              1   \n",
       "\n",
       "   transaction_date  membership_expire_date  is_cancel  \n",
       "0          20170131                20170504          0  \n",
       "1          20150809                20190412          0  \n",
       "2          20170303                20170422          0  \n",
       "3          20170329                20170331          1  \n",
       "4          20170323                20170423          0  "
      ]
     },
     "execution_count": 51,
     "metadata": {},
     "output_type": "execute_result"
    }
   ],
   "source": [
    "db_transactions.head()"
   ]
  },
  {
   "cell_type": "code",
   "execution_count": 52,
   "id": "f0e7729d",
   "metadata": {},
   "outputs": [
    {
     "name": "stdout",
     "output_type": "stream",
     "text": [
      "       payment_method_id  payment_plan_days  plan_list_price  \\\n",
      "count       1.431009e+06       1.431009e+06     1.431009e+06   \n",
      "mean        3.791835e+01       6.601770e+01     2.817870e+02   \n",
      "std         4.964805e+00       1.024864e+02     4.351861e+02   \n",
      "min         2.000000e+00       0.000000e+00     0.000000e+00   \n",
      "25%         3.600000e+01       3.000000e+01     9.900000e+01   \n",
      "50%         4.000000e+01       3.000000e+01     1.490000e+02   \n",
      "75%         4.100000e+01       3.000000e+01     1.490000e+02   \n",
      "max         4.100000e+01       4.500000e+02     2.000000e+03   \n",
      "\n",
      "       actual_amount_paid  is_auto_renew  transaction_date  \\\n",
      "count        1.431009e+06   1.431009e+06      1.431009e+06   \n",
      "mean         2.813172e+02   7.853025e-01      2.016848e+07   \n",
      "std          4.354200e+02   4.106124e-01      4.858797e+03   \n",
      "min          0.000000e+00   0.000000e+00      2.015010e+07   \n",
      "25%          9.900000e+01   1.000000e+00      2.017023e+07   \n",
      "50%          1.490000e+02   1.000000e+00      2.017031e+07   \n",
      "75%          1.490000e+02   1.000000e+00      2.017032e+07   \n",
      "max          2.000000e+03   1.000000e+00      2.017033e+07   \n",
      "\n",
      "       membership_expire_date     is_cancel  \n",
      "count            1.431009e+06  1.431009e+06  \n",
      "mean             2.017110e+07  2.455121e-02  \n",
      "std              3.032367e+03  1.547529e-01  \n",
      "min              2.016042e+07  0.000000e+00  \n",
      "25%              2.017041e+07  0.000000e+00  \n",
      "50%              2.017042e+07  0.000000e+00  \n",
      "75%              2.017050e+07  0.000000e+00  \n",
      "max              2.036102e+07  1.000000e+00  \n",
      "Null Values\n",
      "msno                      0\n",
      "payment_method_id         0\n",
      "payment_plan_days         0\n",
      "plan_list_price           0\n",
      "actual_amount_paid        0\n",
      "is_auto_renew             0\n",
      "transaction_date          0\n",
      "membership_expire_date    0\n",
      "is_cancel                 0\n",
      "dtype: int64\n"
     ]
    }
   ],
   "source": [
    "print(db_transactions.describe())\n",
    "print(\"Null Values\")\n",
    "print(db_transactions.isna().sum())"
   ]
  },
  {
   "cell_type": "code",
   "execution_count": 53,
   "id": "03009d68",
   "metadata": {},
   "outputs": [
    {
     "name": "stdout",
     "output_type": "stream",
     "text": [
      "<class 'pandas.core.frame.DataFrame'>\n",
      "RangeIndex: 970960 entries, 0 to 970959\n",
      "Data columns (total 2 columns):\n",
      " #   Column    Non-Null Count   Dtype \n",
      "---  ------    --------------   ----- \n",
      " 0   msno      970960 non-null  object\n",
      " 1   is_churn  970960 non-null  int64 \n",
      "dtypes: int64(1), object(1)\n",
      "memory usage: 14.8+ MB\n"
     ]
    }
   ],
   "source": [
    "db_train.info()"
   ]
  },
  {
   "cell_type": "markdown",
   "id": "ec825def",
   "metadata": {},
   "source": [
    " Removing the entries of the train and transactions tables with no matching ID's in the members table and removing the null value rows in members"
   ]
  },
  {
   "cell_type": "code",
   "execution_count": 54,
   "id": "85236fdd",
   "metadata": {},
   "outputs": [
    {
     "name": "stdout",
     "output_type": "stream",
     "text": [
      "msno                      0\n",
      "city                      0\n",
      "bd                        0\n",
      "gender                    0\n",
      "registered_via            0\n",
      "registration_init_time    0\n",
      "dtype: int64\n"
     ]
    },
    {
     "data": {
      "text/plain": [
       "(2339968, 6)"
      ]
     },
     "execution_count": 54,
     "metadata": {},
     "output_type": "execute_result"
    }
   ],
   "source": [
    "db_members = db_members.dropna()\n",
    "print(db_members.isna().sum())\n",
    "db_members.shape"
   ]
  },
  {
   "cell_type": "code",
   "execution_count": 55,
   "id": "069010c6",
   "metadata": {},
   "outputs": [],
   "source": [
    "db_members = db_members.head(10000)\n",
    "db_train = db_train.head(10000)\n",
    "db_transactions = db_transactions.head(10000)"
   ]
  },
  {
   "cell_type": "markdown",
   "id": "cca815e5",
   "metadata": {},
   "source": [
    "Python script for changing csv to sql script"
   ]
  },
  {
   "cell_type": "code",
   "execution_count": 56,
   "id": "4b2fc03a",
   "metadata": {},
   "outputs": [],
   "source": [
    "\n",
    "def generate_sql(database,output_file,table_name):\n",
    "    output = output_file\n",
    "    with open(output, \"w\", encoding=\"utf-8\") as f:\n",
    "        for index, row in database.iterrows():\n",
    "            values = \",\".join(\n",
    "                [ f\"'{str(x).replace('\\'', '\\\\\\'')}'\" if pd.notna(x) else 'Null' for x in row]\n",
    "            )\n",
    "            f.write(f\"INSERT INTO {table_name} VALUES ({values});\\n\")"
   ]
  },
  {
   "cell_type": "code",
   "execution_count": 57,
   "id": "c79cc4ed",
   "metadata": {},
   "outputs": [],
   "source": [
    "generate_sql(db_members, \"queries/members.sql\", \"members\")\n",
    "generate_sql(db_train, \"queries/train.sql\", \"train\")\n",
    "generate_sql(db_transactions, \"queries/transactions.sql\", \"transactions\")"
   ]
  }
 ],
 "metadata": {
  "kernelspec": {
   "display_name": "Python 3",
   "language": "python",
   "name": "python3"
  },
  "language_info": {
   "codemirror_mode": {
    "name": "ipython",
    "version": 3
   },
   "file_extension": ".py",
   "mimetype": "text/x-python",
   "name": "python",
   "nbconvert_exporter": "python",
   "pygments_lexer": "ipython3",
   "version": "3.13.3"
  }
 },
 "nbformat": 4,
 "nbformat_minor": 5
}

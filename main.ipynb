{
 "cells": [
  {
   "cell_type": "code",
   "execution_count": 106,
   "id": "1877e264",
   "metadata": {},
   "outputs": [],
   "source": [
    "import pandas as pd \n",
    "import numpy as np \n",
    "from sqlalchemy import create_engine \n",
    "import os\n",
    "from dotenv import load_dotenv\n",
    "from urllib.parse import quote_plus\n",
    "from sklearn.utils import resample\n",
    "from sklearn.preprocessing import OneHotEncoder\n",
    "from sklearn.compose import ColumnTransformer\n",
    "from sklearn.base import BaseEstimator, TransformerMixin\n",
    "from sklearn.pipeline  import Pipeline\n",
    "from sklearn.linear_model import LogisticRegression\n",
    "from sklearn.metrics import accuracy_score\n",
    "from sklearn import tree\n",
    "from sklearn.ensemble import RandomForestClassifier\n",
    "from sklearn.svm import SVC\n",
    "from sklearn.neighbors import KNeighborsClassifier\n",
    "import joblib"
   ]
  },
  {
   "cell_type": "code",
   "execution_count": 107,
   "id": "01fafc06",
   "metadata": {},
   "outputs": [],
   "source": [
    "from sklearn import set_config\n",
    "set_config(display='diagram')"
   ]
  },
  {
   "cell_type": "code",
   "execution_count": 108,
   "id": "0b31c211",
   "metadata": {},
   "outputs": [],
   "source": [
    "db_members = pd.read_csv(\"tables/members_v3.csv\")\n",
    "db_train = pd.read_csv(\"tables/train_v2.csv\")\n",
    "db_transactions = pd.read_csv(\"tables/transactions_v2.csv\")"
   ]
  },
  {
   "cell_type": "markdown",
   "id": "5508fd86",
   "metadata": {},
   "source": [
    "### Taking a sample data of 50000 rows"
   ]
  },
  {
   "cell_type": "markdown",
   "id": "aa4ffc5c",
   "metadata": {},
   "source": [
    "### Filtering the rows of test and transaction based on the presence of foreign key 'msno' in members table"
   ]
  },
  {
   "cell_type": "code",
   "execution_count": 109,
   "id": "67d30134",
   "metadata": {},
   "outputs": [],
   "source": [
    "common_items = set(db_train['msno']).intersection(set(db_transactions[\"msno\"]))\n",
    "\n",
    "db_members = db_members[db_members[\"msno\"].isin(common_items)]\n",
    "db_members = db_members.head(10000)"
   ]
  },
  {
   "cell_type": "code",
   "execution_count": 110,
   "id": "c56b3205",
   "metadata": {},
   "outputs": [],
   "source": [
    "db_transactions = db_transactions[db_transactions['msno'].isin(db_members['msno'])]\n",
    "db_train = db_train[db_train['msno'].isin(db_members['msno'])]"
   ]
  },
  {
   "cell_type": "code",
   "execution_count": 111,
   "id": "bdea6941",
   "metadata": {},
   "outputs": [
    {
     "name": "stdout",
     "output_type": "stream",
     "text": [
      "(9119, 2)\n",
      "(881, 2)\n"
     ]
    }
   ],
   "source": [
    "zeros = db_train[db_train['is_churn'] == 0]\n",
    "ones = db_train[db_train['is_churn'] == 1]\n",
    "print(zeros.shape)\n",
    "print(ones.shape)"
   ]
  },
  {
   "cell_type": "markdown",
   "id": "04fb8743",
   "metadata": {},
   "source": [
    "### Performing undersampling of 0's to match the number fo 1's in the is_churn column"
   ]
  },
  {
   "cell_type": "code",
   "execution_count": 112,
   "id": "cf02e5ff",
   "metadata": {},
   "outputs": [
    {
     "name": "stdout",
     "output_type": "stream",
     "text": [
      "msno        881\n",
      "is_churn    881\n",
      "dtype: int64\n",
      "msno        881\n",
      "is_churn    881\n",
      "dtype: int64\n",
      "(1762, 2)\n"
     ]
    }
   ],
   "source": [
    "# undersampling 0's to match the number of 1's\n",
    "zeros_undersampled = resample(zeros,replace=False,n_samples=len(ones),random_state=42)\n",
    "db_train = pd.concat([zeros_undersampled,ones])\n",
    "\n",
    "# suffling the results\n",
    "db_train = db_train.sample(frac=1,random_state=42).reset_index(drop=True)\n",
    "\n",
    "print(ones.count())\n",
    "print(zeros_undersampled.count())\n",
    "print(db_train.shape)"
   ]
  },
  {
   "cell_type": "markdown",
   "id": "cca815e5",
   "metadata": {},
   "source": [
    "Python script for changing csv to sql script"
   ]
  },
  {
   "cell_type": "code",
   "execution_count": 113,
   "id": "4b2fc03a",
   "metadata": {},
   "outputs": [],
   "source": [
    "\n",
    "def generate_sql(database,output_file,table_name):\n",
    "    output = output_file\n",
    "    with open(output, \"w\", encoding=\"utf-8\") as f:\n",
    "        for index, row in database.iterrows():\n",
    "            values = \",\".join(\n",
    "                [ f\"'{str(x).replace('\\'', '\\\\\\'')}'\" if pd.notna(x) else 'Null' for x in row]\n",
    "            )\n",
    "            f.write(f\"INSERT INTO {table_name} VALUES ({values});\\n\")"
   ]
  },
  {
   "cell_type": "code",
   "execution_count": 114,
   "id": "c79cc4ed",
   "metadata": {},
   "outputs": [],
   "source": [
    "generate_sql(db_members, \"queries/members.sql\", \"members\")\n",
    "generate_sql(db_transactions, \"queries/transactions.sql\", \"transactions\")\n",
    "generate_sql(db_train, \"queries/train.sql\", \"train\")\n"
   ]
  },
  {
   "cell_type": "markdown",
   "id": "49eddea9",
   "metadata": {},
   "source": [
    "### Importing the main view as a database"
   ]
  },
  {
   "cell_type": "code",
   "execution_count": 115,
   "id": "dc0ead9d",
   "metadata": {},
   "outputs": [],
   "source": [
    "load_dotenv( dotenv_path= \"login.env\")\n",
    "\n",
    "username = os.getenv(\"mysql_username\")\n",
    "password = os.getenv(\"mysql_password\")\n",
    "host = os.getenv(\"mysql_host\")\n",
    "port = os.getenv(\"mysql_port\")\n",
    "database = os.getenv(\"mysql_database\")\n",
    "password = quote_plus(password)"
   ]
  },
  {
   "cell_type": "code",
   "execution_count": 116,
   "id": "4c354d4d",
   "metadata": {},
   "outputs": [],
   "source": [
    "engine = create_engine(f\"mysql+pymysql://{username}:{password}@{host}:{port}/{database}\")"
   ]
  },
  {
   "cell_type": "markdown",
   "id": "ea53e7e5",
   "metadata": {},
   "source": [
    "### Reading the main view and importing it as database"
   ]
  },
  {
   "cell_type": "code",
   "execution_count": 117,
   "id": "fd295c36",
   "metadata": {},
   "outputs": [
    {
     "data": {
      "text/html": [
       "<div>\n",
       "<style scoped>\n",
       "    .dataframe tbody tr th:only-of-type {\n",
       "        vertical-align: middle;\n",
       "    }\n",
       "\n",
       "    .dataframe tbody tr th {\n",
       "        vertical-align: top;\n",
       "    }\n",
       "\n",
       "    .dataframe thead th {\n",
       "        text-align: right;\n",
       "    }\n",
       "</style>\n",
       "<table border=\"1\" class=\"dataframe\">\n",
       "  <thead>\n",
       "    <tr style=\"text-align: right;\">\n",
       "      <th></th>\n",
       "      <th>msno</th>\n",
       "      <th>city</th>\n",
       "      <th>gender</th>\n",
       "      <th>registered_via</th>\n",
       "      <th>transaction_date</th>\n",
       "      <th>plan_list_price</th>\n",
       "      <th>actual_amount_paid</th>\n",
       "      <th>is_auto_renew</th>\n",
       "      <th>membership_expire_date</th>\n",
       "      <th>payment_method_id</th>\n",
       "      <th>payment_plan_days</th>\n",
       "      <th>is_churn</th>\n",
       "    </tr>\n",
       "  </thead>\n",
       "  <tbody>\n",
       "    <tr>\n",
       "      <th>0</th>\n",
       "      <td>pSTuOZfsry0JrJHIAKJIzjT44QzYwDEDVzb29p2+/zE=</td>\n",
       "      <td>6</td>\n",
       "      <td>male</td>\n",
       "      <td>7</td>\n",
       "      <td>20170313</td>\n",
       "      <td>129</td>\n",
       "      <td>129</td>\n",
       "      <td>1</td>\n",
       "      <td>20170313</td>\n",
       "      <td>41</td>\n",
       "      <td>30</td>\n",
       "      <td>1</td>\n",
       "    </tr>\n",
       "    <tr>\n",
       "      <th>1</th>\n",
       "      <td>gGCGr9HakzejGaLxWw3kP0W9DyWEuEcgtbju8qrTqs4=</td>\n",
       "      <td>15</td>\n",
       "      <td>male</td>\n",
       "      <td>9</td>\n",
       "      <td>20170331</td>\n",
       "      <td>149</td>\n",
       "      <td>149</td>\n",
       "      <td>1</td>\n",
       "      <td>20170519</td>\n",
       "      <td>39</td>\n",
       "      <td>30</td>\n",
       "      <td>0</td>\n",
       "    </tr>\n",
       "    <tr>\n",
       "      <th>2</th>\n",
       "      <td>gGCGr9HakzejGaLxWw3kP0W9DyWEuEcgtbju8qrTqs4=</td>\n",
       "      <td>15</td>\n",
       "      <td>male</td>\n",
       "      <td>9</td>\n",
       "      <td>20170228</td>\n",
       "      <td>149</td>\n",
       "      <td>149</td>\n",
       "      <td>1</td>\n",
       "      <td>20170419</td>\n",
       "      <td>39</td>\n",
       "      <td>30</td>\n",
       "      <td>0</td>\n",
       "    </tr>\n",
       "    <tr>\n",
       "      <th>3</th>\n",
       "      <td>wqqGqVlWfiBx+XsOEWEKjFqOTPsCH0CxV7WOoKGn0Ms=</td>\n",
       "      <td>4</td>\n",
       "      <td>female</td>\n",
       "      <td>7</td>\n",
       "      <td>20170228</td>\n",
       "      <td>149</td>\n",
       "      <td>149</td>\n",
       "      <td>1</td>\n",
       "      <td>20170430</td>\n",
       "      <td>39</td>\n",
       "      <td>30</td>\n",
       "      <td>0</td>\n",
       "    </tr>\n",
       "    <tr>\n",
       "      <th>4</th>\n",
       "      <td>wqqGqVlWfiBx+XsOEWEKjFqOTPsCH0CxV7WOoKGn0Ms=</td>\n",
       "      <td>4</td>\n",
       "      <td>female</td>\n",
       "      <td>7</td>\n",
       "      <td>20170331</td>\n",
       "      <td>149</td>\n",
       "      <td>149</td>\n",
       "      <td>1</td>\n",
       "      <td>20170530</td>\n",
       "      <td>39</td>\n",
       "      <td>30</td>\n",
       "      <td>0</td>\n",
       "    </tr>\n",
       "  </tbody>\n",
       "</table>\n",
       "</div>"
      ],
      "text/plain": [
       "                                           msno  city  gender  registered_via  \\\n",
       "0  pSTuOZfsry0JrJHIAKJIzjT44QzYwDEDVzb29p2+/zE=     6    male               7   \n",
       "1  gGCGr9HakzejGaLxWw3kP0W9DyWEuEcgtbju8qrTqs4=    15    male               9   \n",
       "2  gGCGr9HakzejGaLxWw3kP0W9DyWEuEcgtbju8qrTqs4=    15    male               9   \n",
       "3  wqqGqVlWfiBx+XsOEWEKjFqOTPsCH0CxV7WOoKGn0Ms=     4  female               7   \n",
       "4  wqqGqVlWfiBx+XsOEWEKjFqOTPsCH0CxV7WOoKGn0Ms=     4  female               7   \n",
       "\n",
       "   transaction_date  plan_list_price  actual_amount_paid  is_auto_renew  \\\n",
       "0          20170313              129                 129              1   \n",
       "1          20170331              149                 149              1   \n",
       "2          20170228              149                 149              1   \n",
       "3          20170228              149                 149              1   \n",
       "4          20170331              149                 149              1   \n",
       "\n",
       "   membership_expire_date  payment_method_id  payment_plan_days  is_churn  \n",
       "0                20170313                 41                 30         1  \n",
       "1                20170519                 39                 30         0  \n",
       "2                20170419                 39                 30         0  \n",
       "3                20170430                 39                 30         0  \n",
       "4                20170530                 39                 30         0  "
      ]
     },
     "execution_count": 117,
     "metadata": {},
     "output_type": "execute_result"
    }
   ],
   "source": [
    "main_db = pd.read_sql(\"select * from main_view\", con=engine)\n",
    "main_db.head()"
   ]
  },
  {
   "cell_type": "markdown",
   "id": "b605f35e",
   "metadata": {},
   "source": [
    "### Checking for null values"
   ]
  },
  {
   "cell_type": "code",
   "execution_count": 118,
   "id": "16a6e455",
   "metadata": {},
   "outputs": [
    {
     "name": "stdout",
     "output_type": "stream",
     "text": [
      "msno                      0\n",
      "city                      0\n",
      "gender                    0\n",
      "registered_via            0\n",
      "transaction_date          0\n",
      "plan_list_price           0\n",
      "actual_amount_paid        0\n",
      "is_auto_renew             0\n",
      "membership_expire_date    0\n",
      "payment_method_id         0\n",
      "payment_plan_days         0\n",
      "is_churn                  0\n",
      "dtype: int64\n"
     ]
    }
   ],
   "source": [
    "print(main_db.isna().sum())"
   ]
  },
  {
   "cell_type": "code",
   "execution_count": 119,
   "id": "06c2fc43",
   "metadata": {},
   "outputs": [],
   "source": [
    "main_db['transaction_date'] = pd.to_datetime(main_db['transaction_date'],format='%Y%m%d')\n",
    "main_db['membership_expire_date'] = pd.to_datetime(main_db['membership_expire_date'], format='%Y%m%d')\n"
   ]
  },
  {
   "cell_type": "markdown",
   "id": "323108ef",
   "metadata": {},
   "source": [
    "### Dividing data for creating training, testing and validation dataset"
   ]
  },
  {
   "cell_type": "code",
   "execution_count": 120,
   "id": "cb8f1f65",
   "metadata": {},
   "outputs": [
    {
     "name": "stderr",
     "output_type": "stream",
     "text": [
      "C:\\Users\\apoor\\AppData\\Local\\Packages\\PythonSoftwareFoundation.Python.3.13_qbz5n2kfra8p0\\LocalCache\\local-packages\\Python313\\site-packages\\numpy\\_core\\fromnumeric.py:57: FutureWarning: 'DataFrame.swapaxes' is deprecated and will be removed in a future version. Please use 'DataFrame.transpose' instead.\n",
      "  return bound(*args, **kwds)\n",
      "C:\\Users\\apoor\\AppData\\Local\\Packages\\PythonSoftwareFoundation.Python.3.13_qbz5n2kfra8p0\\LocalCache\\local-packages\\Python313\\site-packages\\numpy\\_core\\fromnumeric.py:57: FutureWarning: 'DataFrame.swapaxes' is deprecated and will be removed in a future version. Please use 'DataFrame.transpose' instead.\n",
      "  return bound(*args, **kwds)\n"
     ]
    }
   ],
   "source": [
    "rows, features = main_db.shape\n",
    "x, y = np.hsplit(main_db,[features-1])"
   ]
  },
  {
   "cell_type": "code",
   "execution_count": 121,
   "id": "85c796da",
   "metadata": {},
   "outputs": [],
   "source": [
    "y = y.squeeze()\n",
    "y = y.astype(int)"
   ]
  },
  {
   "cell_type": "code",
   "execution_count": 122,
   "id": "bebca417",
   "metadata": {},
   "outputs": [
    {
     "data": {
      "text/plain": [
       "dtype('int64')"
      ]
     },
     "execution_count": 122,
     "metadata": {},
     "output_type": "execute_result"
    }
   ],
   "source": [
    "y.dtypes"
   ]
  },
  {
   "cell_type": "markdown",
   "id": "d1b1f1f8",
   "metadata": {},
   "source": [
    "### Dropping column msno since it won't be required"
   ]
  },
  {
   "cell_type": "code",
   "execution_count": 123,
   "id": "9cbf8223",
   "metadata": {},
   "outputs": [],
   "source": [
    "x = x.drop(columns=[\"msno\"])"
   ]
  },
  {
   "cell_type": "markdown",
   "id": "aa7adca2",
   "metadata": {},
   "source": [
    "### Checking if plan_list_price is same as actual_ammount_paid"
   ]
  },
  {
   "cell_type": "code",
   "execution_count": 124,
   "id": "3e766aa3",
   "metadata": {},
   "outputs": [
    {
     "name": "stdout",
     "output_type": "stream",
     "text": [
      "Number of same values in each row :2733\n",
      "Size of x:(2782, 10)\n"
     ]
    }
   ],
   "source": [
    "count = 0\n",
    "for i in range(0,len(x)):\n",
    "    if(x.loc[i,\"plan_list_price\"] == x.loc[i,\"actual_amount_paid\"]):\n",
    "        count += 1\n",
    "print(\"Number of same values in each row :\"+str(count))\n",
    "print(\"Size of x:\"+str(x.shape))"
   ]
  },
  {
   "cell_type": "markdown",
   "id": "4584d5bf",
   "metadata": {},
   "source": [
    "### Dropping plan_list_price"
   ]
  },
  {
   "cell_type": "code",
   "execution_count": 125,
   "id": "1d1d51b2",
   "metadata": {},
   "outputs": [],
   "source": [
    "x = x.drop(columns=[\"plan_list_price\"])"
   ]
  },
  {
   "cell_type": "code",
   "execution_count": 126,
   "id": "2d99edf8",
   "metadata": {},
   "outputs": [
    {
     "data": {
      "text/html": [
       "<div>\n",
       "<style scoped>\n",
       "    .dataframe tbody tr th:only-of-type {\n",
       "        vertical-align: middle;\n",
       "    }\n",
       "\n",
       "    .dataframe tbody tr th {\n",
       "        vertical-align: top;\n",
       "    }\n",
       "\n",
       "    .dataframe thead th {\n",
       "        text-align: right;\n",
       "    }\n",
       "</style>\n",
       "<table border=\"1\" class=\"dataframe\">\n",
       "  <thead>\n",
       "    <tr style=\"text-align: right;\">\n",
       "      <th></th>\n",
       "      <th>city</th>\n",
       "      <th>gender</th>\n",
       "      <th>registered_via</th>\n",
       "      <th>transaction_date</th>\n",
       "      <th>actual_amount_paid</th>\n",
       "      <th>is_auto_renew</th>\n",
       "      <th>membership_expire_date</th>\n",
       "      <th>payment_method_id</th>\n",
       "      <th>payment_plan_days</th>\n",
       "    </tr>\n",
       "  </thead>\n",
       "  <tbody>\n",
       "    <tr>\n",
       "      <th>0</th>\n",
       "      <td>6</td>\n",
       "      <td>male</td>\n",
       "      <td>7</td>\n",
       "      <td>2017-03-13</td>\n",
       "      <td>129</td>\n",
       "      <td>1</td>\n",
       "      <td>2017-03-13</td>\n",
       "      <td>41</td>\n",
       "      <td>30</td>\n",
       "    </tr>\n",
       "    <tr>\n",
       "      <th>1</th>\n",
       "      <td>15</td>\n",
       "      <td>male</td>\n",
       "      <td>9</td>\n",
       "      <td>2017-03-31</td>\n",
       "      <td>149</td>\n",
       "      <td>1</td>\n",
       "      <td>2017-05-19</td>\n",
       "      <td>39</td>\n",
       "      <td>30</td>\n",
       "    </tr>\n",
       "    <tr>\n",
       "      <th>2</th>\n",
       "      <td>15</td>\n",
       "      <td>male</td>\n",
       "      <td>9</td>\n",
       "      <td>2017-02-28</td>\n",
       "      <td>149</td>\n",
       "      <td>1</td>\n",
       "      <td>2017-04-19</td>\n",
       "      <td>39</td>\n",
       "      <td>30</td>\n",
       "    </tr>\n",
       "    <tr>\n",
       "      <th>3</th>\n",
       "      <td>4</td>\n",
       "      <td>female</td>\n",
       "      <td>7</td>\n",
       "      <td>2017-02-28</td>\n",
       "      <td>149</td>\n",
       "      <td>1</td>\n",
       "      <td>2017-04-30</td>\n",
       "      <td>39</td>\n",
       "      <td>30</td>\n",
       "    </tr>\n",
       "    <tr>\n",
       "      <th>4</th>\n",
       "      <td>4</td>\n",
       "      <td>female</td>\n",
       "      <td>7</td>\n",
       "      <td>2017-03-31</td>\n",
       "      <td>149</td>\n",
       "      <td>1</td>\n",
       "      <td>2017-05-30</td>\n",
       "      <td>39</td>\n",
       "      <td>30</td>\n",
       "    </tr>\n",
       "  </tbody>\n",
       "</table>\n",
       "</div>"
      ],
      "text/plain": [
       "  city  gender registered_via transaction_date actual_amount_paid  \\\n",
       "0    6    male              7       2017-03-13                129   \n",
       "1   15    male              9       2017-03-31                149   \n",
       "2   15    male              9       2017-02-28                149   \n",
       "3    4  female              7       2017-02-28                149   \n",
       "4    4  female              7       2017-03-31                149   \n",
       "\n",
       "  is_auto_renew membership_expire_date payment_method_id payment_plan_days  \n",
       "0             1             2017-03-13                41                30  \n",
       "1             1             2017-05-19                39                30  \n",
       "2             1             2017-04-19                39                30  \n",
       "3             1             2017-04-30                39                30  \n",
       "4             1             2017-05-30                39                30  "
      ]
     },
     "execution_count": 126,
     "metadata": {},
     "output_type": "execute_result"
    }
   ],
   "source": [
    "x.head()"
   ]
  },
  {
   "cell_type": "code",
   "execution_count": 127,
   "id": "df14bd8c",
   "metadata": {},
   "outputs": [
    {
     "data": {
      "text/plain": [
       "array([30, 410, 90, 180, 240, 100, 195, 400, 120, 80, 0, 60, 360, 395, 10,\n",
       "       200, 365, 1, 7, 450, 270], dtype=object)"
      ]
     },
     "execution_count": 127,
     "metadata": {},
     "output_type": "execute_result"
    }
   ],
   "source": [
    "x[\"payment_plan_days\"].unique()"
   ]
  },
  {
   "cell_type": "markdown",
   "id": "c51efc64",
   "metadata": {},
   "source": [
    "### Creating Test Train Split"
   ]
  },
  {
   "cell_type": "code",
   "execution_count": 128,
   "id": "9edb5ac6",
   "metadata": {},
   "outputs": [
    {
     "name": "stderr",
     "output_type": "stream",
     "text": [
      "C:\\Users\\apoor\\AppData\\Local\\Packages\\PythonSoftwareFoundation.Python.3.13_qbz5n2kfra8p0\\LocalCache\\local-packages\\Python313\\site-packages\\numpy\\_core\\fromnumeric.py:57: FutureWarning: 'DataFrame.swapaxes' is deprecated and will be removed in a future version. Please use 'DataFrame.transpose' instead.\n",
      "  return bound(*args, **kwds)\n",
      "C:\\Users\\apoor\\AppData\\Local\\Packages\\PythonSoftwareFoundation.Python.3.13_qbz5n2kfra8p0\\LocalCache\\local-packages\\Python313\\site-packages\\numpy\\_core\\fromnumeric.py:57: FutureWarning: 'Series.swapaxes' is deprecated and will be removed in a future version. Please use 'Series.transpose' instead.\n",
      "  return bound(*args, **kwds)\n"
     ]
    }
   ],
   "source": [
    "x_train, x_test, x_valid = np.split(x,[int(0.7*len(x)-1), int(0.9*len(x))-1])\n",
    "y_train, y_test, y_valid = np.split(y,[int(0.7*len(y)-1), int(0.9*len(y))-1])"
   ]
  },
  {
   "cell_type": "markdown",
   "id": "0fe2cf42",
   "metadata": {},
   "source": [
    "## Data Transformation Pipeline"
   ]
  },
  {
   "cell_type": "markdown",
   "id": "7ace1eec",
   "metadata": {},
   "source": [
    "### 1. Perfroming One Hot encoding on the gender column"
   ]
  },
  {
   "cell_type": "code",
   "execution_count": 129,
   "id": "ee84dd85",
   "metadata": {},
   "outputs": [],
   "source": [
    "gen_encoding = ColumnTransformer([\n",
    "    (\"gender\", OneHotEncoder(),[1])\n",
    "],remainder='passthrough')"
   ]
  },
  {
   "cell_type": "markdown",
   "id": "1181f5b7",
   "metadata": {},
   "source": [
    "### 2. Creating a new column which gives the duration of the subscription, by creating a custom transformer"
   ]
  },
  {
   "cell_type": "code",
   "execution_count": 130,
   "id": "014e2c0b",
   "metadata": {},
   "outputs": [],
   "source": [
    "class durationTransform(BaseEstimator,TransformerMixin):\n",
    "    def fit(self,x,y=None):\n",
    "        \n",
    "        return self\n",
    "    \n",
    "    def transform(self,x):\n",
    "        \n",
    "        # chacking if the input is dataframe or a numpy array\n",
    "        if isinstance(x,pd.DataFrame):\n",
    "            db = x.copy()\n",
    "            db.head()\n",
    "        else:\n",
    "            db = pd.DataFrame(x,columns=[\"transaction_date\",\"membership_expire_date\"])\n",
    "            db.head()\n",
    "        \n",
    "        # making sure the required input is in datetime format\n",
    "        db[\"transaction_date\"] = pd.to_datetime(db[\"transaction_date\"])\n",
    "        db[\"membership_expire_date\"] = pd.to_datetime(db[\"membership_expire_date\"])\n",
    "        \n",
    "        result = (db[\"membership_expire_date\"] - db[\"transaction_date\"]).dt.days\n",
    "        return result.values.reshape(-1,1)\n",
    "        "
   ]
  },
  {
   "cell_type": "code",
   "execution_count": 131,
   "id": "e71cd4d9",
   "metadata": {},
   "outputs": [],
   "source": [
    "subs_time = ColumnTransformer([\n",
    "    (\"duration_in_days\", durationTransform(), [4,7])\n",
    "    ], remainder='passthrough')"
   ]
  },
  {
   "cell_type": "markdown",
   "id": "8b440ef4",
   "metadata": {},
   "source": [
    "## Creating the pipeline"
   ]
  },
  {
   "cell_type": "code",
   "execution_count": 132,
   "id": "f0c60301",
   "metadata": {},
   "outputs": [
    {
     "data": {
      "text/html": [
       "<style>#sk-container-id-4 {\n",
       "  /* Definition of color scheme common for light and dark mode */\n",
       "  --sklearn-color-text: #000;\n",
       "  --sklearn-color-text-muted: #666;\n",
       "  --sklearn-color-line: gray;\n",
       "  /* Definition of color scheme for unfitted estimators */\n",
       "  --sklearn-color-unfitted-level-0: #fff5e6;\n",
       "  --sklearn-color-unfitted-level-1: #f6e4d2;\n",
       "  --sklearn-color-unfitted-level-2: #ffe0b3;\n",
       "  --sklearn-color-unfitted-level-3: chocolate;\n",
       "  /* Definition of color scheme for fitted estimators */\n",
       "  --sklearn-color-fitted-level-0: #f0f8ff;\n",
       "  --sklearn-color-fitted-level-1: #d4ebff;\n",
       "  --sklearn-color-fitted-level-2: #b3dbfd;\n",
       "  --sklearn-color-fitted-level-3: cornflowerblue;\n",
       "\n",
       "  /* Specific color for light theme */\n",
       "  --sklearn-color-text-on-default-background: var(--sg-text-color, var(--theme-code-foreground, var(--jp-content-font-color1, black)));\n",
       "  --sklearn-color-background: var(--sg-background-color, var(--theme-background, var(--jp-layout-color0, white)));\n",
       "  --sklearn-color-border-box: var(--sg-text-color, var(--theme-code-foreground, var(--jp-content-font-color1, black)));\n",
       "  --sklearn-color-icon: #696969;\n",
       "\n",
       "  @media (prefers-color-scheme: dark) {\n",
       "    /* Redefinition of color scheme for dark theme */\n",
       "    --sklearn-color-text-on-default-background: var(--sg-text-color, var(--theme-code-foreground, var(--jp-content-font-color1, white)));\n",
       "    --sklearn-color-background: var(--sg-background-color, var(--theme-background, var(--jp-layout-color0, #111)));\n",
       "    --sklearn-color-border-box: var(--sg-text-color, var(--theme-code-foreground, var(--jp-content-font-color1, white)));\n",
       "    --sklearn-color-icon: #878787;\n",
       "  }\n",
       "}\n",
       "\n",
       "#sk-container-id-4 {\n",
       "  color: var(--sklearn-color-text);\n",
       "}\n",
       "\n",
       "#sk-container-id-4 pre {\n",
       "  padding: 0;\n",
       "}\n",
       "\n",
       "#sk-container-id-4 input.sk-hidden--visually {\n",
       "  border: 0;\n",
       "  clip: rect(1px 1px 1px 1px);\n",
       "  clip: rect(1px, 1px, 1px, 1px);\n",
       "  height: 1px;\n",
       "  margin: -1px;\n",
       "  overflow: hidden;\n",
       "  padding: 0;\n",
       "  position: absolute;\n",
       "  width: 1px;\n",
       "}\n",
       "\n",
       "#sk-container-id-4 div.sk-dashed-wrapped {\n",
       "  border: 1px dashed var(--sklearn-color-line);\n",
       "  margin: 0 0.4em 0.5em 0.4em;\n",
       "  box-sizing: border-box;\n",
       "  padding-bottom: 0.4em;\n",
       "  background-color: var(--sklearn-color-background);\n",
       "}\n",
       "\n",
       "#sk-container-id-4 div.sk-container {\n",
       "  /* jupyter's `normalize.less` sets `[hidden] { display: none; }`\n",
       "     but bootstrap.min.css set `[hidden] { display: none !important; }`\n",
       "     so we also need the `!important` here to be able to override the\n",
       "     default hidden behavior on the sphinx rendered scikit-learn.org.\n",
       "     See: https://github.com/scikit-learn/scikit-learn/issues/21755 */\n",
       "  display: inline-block !important;\n",
       "  position: relative;\n",
       "}\n",
       "\n",
       "#sk-container-id-4 div.sk-text-repr-fallback {\n",
       "  display: none;\n",
       "}\n",
       "\n",
       "div.sk-parallel-item,\n",
       "div.sk-serial,\n",
       "div.sk-item {\n",
       "  /* draw centered vertical line to link estimators */\n",
       "  background-image: linear-gradient(var(--sklearn-color-text-on-default-background), var(--sklearn-color-text-on-default-background));\n",
       "  background-size: 2px 100%;\n",
       "  background-repeat: no-repeat;\n",
       "  background-position: center center;\n",
       "}\n",
       "\n",
       "/* Parallel-specific style estimator block */\n",
       "\n",
       "#sk-container-id-4 div.sk-parallel-item::after {\n",
       "  content: \"\";\n",
       "  width: 100%;\n",
       "  border-bottom: 2px solid var(--sklearn-color-text-on-default-background);\n",
       "  flex-grow: 1;\n",
       "}\n",
       "\n",
       "#sk-container-id-4 div.sk-parallel {\n",
       "  display: flex;\n",
       "  align-items: stretch;\n",
       "  justify-content: center;\n",
       "  background-color: var(--sklearn-color-background);\n",
       "  position: relative;\n",
       "}\n",
       "\n",
       "#sk-container-id-4 div.sk-parallel-item {\n",
       "  display: flex;\n",
       "  flex-direction: column;\n",
       "}\n",
       "\n",
       "#sk-container-id-4 div.sk-parallel-item:first-child::after {\n",
       "  align-self: flex-end;\n",
       "  width: 50%;\n",
       "}\n",
       "\n",
       "#sk-container-id-4 div.sk-parallel-item:last-child::after {\n",
       "  align-self: flex-start;\n",
       "  width: 50%;\n",
       "}\n",
       "\n",
       "#sk-container-id-4 div.sk-parallel-item:only-child::after {\n",
       "  width: 0;\n",
       "}\n",
       "\n",
       "/* Serial-specific style estimator block */\n",
       "\n",
       "#sk-container-id-4 div.sk-serial {\n",
       "  display: flex;\n",
       "  flex-direction: column;\n",
       "  align-items: center;\n",
       "  background-color: var(--sklearn-color-background);\n",
       "  padding-right: 1em;\n",
       "  padding-left: 1em;\n",
       "}\n",
       "\n",
       "\n",
       "/* Toggleable style: style used for estimator/Pipeline/ColumnTransformer box that is\n",
       "clickable and can be expanded/collapsed.\n",
       "- Pipeline and ColumnTransformer use this feature and define the default style\n",
       "- Estimators will overwrite some part of the style using the `sk-estimator` class\n",
       "*/\n",
       "\n",
       "/* Pipeline and ColumnTransformer style (default) */\n",
       "\n",
       "#sk-container-id-4 div.sk-toggleable {\n",
       "  /* Default theme specific background. It is overwritten whether we have a\n",
       "  specific estimator or a Pipeline/ColumnTransformer */\n",
       "  background-color: var(--sklearn-color-background);\n",
       "}\n",
       "\n",
       "/* Toggleable label */\n",
       "#sk-container-id-4 label.sk-toggleable__label {\n",
       "  cursor: pointer;\n",
       "  display: flex;\n",
       "  width: 100%;\n",
       "  margin-bottom: 0;\n",
       "  padding: 0.5em;\n",
       "  box-sizing: border-box;\n",
       "  text-align: center;\n",
       "  align-items: start;\n",
       "  justify-content: space-between;\n",
       "  gap: 0.5em;\n",
       "}\n",
       "\n",
       "#sk-container-id-4 label.sk-toggleable__label .caption {\n",
       "  font-size: 0.6rem;\n",
       "  font-weight: lighter;\n",
       "  color: var(--sklearn-color-text-muted);\n",
       "}\n",
       "\n",
       "#sk-container-id-4 label.sk-toggleable__label-arrow:before {\n",
       "  /* Arrow on the left of the label */\n",
       "  content: \"▸\";\n",
       "  float: left;\n",
       "  margin-right: 0.25em;\n",
       "  color: var(--sklearn-color-icon);\n",
       "}\n",
       "\n",
       "#sk-container-id-4 label.sk-toggleable__label-arrow:hover:before {\n",
       "  color: var(--sklearn-color-text);\n",
       "}\n",
       "\n",
       "/* Toggleable content - dropdown */\n",
       "\n",
       "#sk-container-id-4 div.sk-toggleable__content {\n",
       "  max-height: 0;\n",
       "  max-width: 0;\n",
       "  overflow: hidden;\n",
       "  text-align: left;\n",
       "  /* unfitted */\n",
       "  background-color: var(--sklearn-color-unfitted-level-0);\n",
       "}\n",
       "\n",
       "#sk-container-id-4 div.sk-toggleable__content.fitted {\n",
       "  /* fitted */\n",
       "  background-color: var(--sklearn-color-fitted-level-0);\n",
       "}\n",
       "\n",
       "#sk-container-id-4 div.sk-toggleable__content pre {\n",
       "  margin: 0.2em;\n",
       "  border-radius: 0.25em;\n",
       "  color: var(--sklearn-color-text);\n",
       "  /* unfitted */\n",
       "  background-color: var(--sklearn-color-unfitted-level-0);\n",
       "}\n",
       "\n",
       "#sk-container-id-4 div.sk-toggleable__content.fitted pre {\n",
       "  /* unfitted */\n",
       "  background-color: var(--sklearn-color-fitted-level-0);\n",
       "}\n",
       "\n",
       "#sk-container-id-4 input.sk-toggleable__control:checked~div.sk-toggleable__content {\n",
       "  /* Expand drop-down */\n",
       "  max-height: 200px;\n",
       "  max-width: 100%;\n",
       "  overflow: auto;\n",
       "}\n",
       "\n",
       "#sk-container-id-4 input.sk-toggleable__control:checked~label.sk-toggleable__label-arrow:before {\n",
       "  content: \"▾\";\n",
       "}\n",
       "\n",
       "/* Pipeline/ColumnTransformer-specific style */\n",
       "\n",
       "#sk-container-id-4 div.sk-label input.sk-toggleable__control:checked~label.sk-toggleable__label {\n",
       "  color: var(--sklearn-color-text);\n",
       "  background-color: var(--sklearn-color-unfitted-level-2);\n",
       "}\n",
       "\n",
       "#sk-container-id-4 div.sk-label.fitted input.sk-toggleable__control:checked~label.sk-toggleable__label {\n",
       "  background-color: var(--sklearn-color-fitted-level-2);\n",
       "}\n",
       "\n",
       "/* Estimator-specific style */\n",
       "\n",
       "/* Colorize estimator box */\n",
       "#sk-container-id-4 div.sk-estimator input.sk-toggleable__control:checked~label.sk-toggleable__label {\n",
       "  /* unfitted */\n",
       "  background-color: var(--sklearn-color-unfitted-level-2);\n",
       "}\n",
       "\n",
       "#sk-container-id-4 div.sk-estimator.fitted input.sk-toggleable__control:checked~label.sk-toggleable__label {\n",
       "  /* fitted */\n",
       "  background-color: var(--sklearn-color-fitted-level-2);\n",
       "}\n",
       "\n",
       "#sk-container-id-4 div.sk-label label.sk-toggleable__label,\n",
       "#sk-container-id-4 div.sk-label label {\n",
       "  /* The background is the default theme color */\n",
       "  color: var(--sklearn-color-text-on-default-background);\n",
       "}\n",
       "\n",
       "/* On hover, darken the color of the background */\n",
       "#sk-container-id-4 div.sk-label:hover label.sk-toggleable__label {\n",
       "  color: var(--sklearn-color-text);\n",
       "  background-color: var(--sklearn-color-unfitted-level-2);\n",
       "}\n",
       "\n",
       "/* Label box, darken color on hover, fitted */\n",
       "#sk-container-id-4 div.sk-label.fitted:hover label.sk-toggleable__label.fitted {\n",
       "  color: var(--sklearn-color-text);\n",
       "  background-color: var(--sklearn-color-fitted-level-2);\n",
       "}\n",
       "\n",
       "/* Estimator label */\n",
       "\n",
       "#sk-container-id-4 div.sk-label label {\n",
       "  font-family: monospace;\n",
       "  font-weight: bold;\n",
       "  display: inline-block;\n",
       "  line-height: 1.2em;\n",
       "}\n",
       "\n",
       "#sk-container-id-4 div.sk-label-container {\n",
       "  text-align: center;\n",
       "}\n",
       "\n",
       "/* Estimator-specific */\n",
       "#sk-container-id-4 div.sk-estimator {\n",
       "  font-family: monospace;\n",
       "  border: 1px dotted var(--sklearn-color-border-box);\n",
       "  border-radius: 0.25em;\n",
       "  box-sizing: border-box;\n",
       "  margin-bottom: 0.5em;\n",
       "  /* unfitted */\n",
       "  background-color: var(--sklearn-color-unfitted-level-0);\n",
       "}\n",
       "\n",
       "#sk-container-id-4 div.sk-estimator.fitted {\n",
       "  /* fitted */\n",
       "  background-color: var(--sklearn-color-fitted-level-0);\n",
       "}\n",
       "\n",
       "/* on hover */\n",
       "#sk-container-id-4 div.sk-estimator:hover {\n",
       "  /* unfitted */\n",
       "  background-color: var(--sklearn-color-unfitted-level-2);\n",
       "}\n",
       "\n",
       "#sk-container-id-4 div.sk-estimator.fitted:hover {\n",
       "  /* fitted */\n",
       "  background-color: var(--sklearn-color-fitted-level-2);\n",
       "}\n",
       "\n",
       "/* Specification for estimator info (e.g. \"i\" and \"?\") */\n",
       "\n",
       "/* Common style for \"i\" and \"?\" */\n",
       "\n",
       ".sk-estimator-doc-link,\n",
       "a:link.sk-estimator-doc-link,\n",
       "a:visited.sk-estimator-doc-link {\n",
       "  float: right;\n",
       "  font-size: smaller;\n",
       "  line-height: 1em;\n",
       "  font-family: monospace;\n",
       "  background-color: var(--sklearn-color-background);\n",
       "  border-radius: 1em;\n",
       "  height: 1em;\n",
       "  width: 1em;\n",
       "  text-decoration: none !important;\n",
       "  margin-left: 0.5em;\n",
       "  text-align: center;\n",
       "  /* unfitted */\n",
       "  border: var(--sklearn-color-unfitted-level-1) 1pt solid;\n",
       "  color: var(--sklearn-color-unfitted-level-1);\n",
       "}\n",
       "\n",
       ".sk-estimator-doc-link.fitted,\n",
       "a:link.sk-estimator-doc-link.fitted,\n",
       "a:visited.sk-estimator-doc-link.fitted {\n",
       "  /* fitted */\n",
       "  border: var(--sklearn-color-fitted-level-1) 1pt solid;\n",
       "  color: var(--sklearn-color-fitted-level-1);\n",
       "}\n",
       "\n",
       "/* On hover */\n",
       "div.sk-estimator:hover .sk-estimator-doc-link:hover,\n",
       ".sk-estimator-doc-link:hover,\n",
       "div.sk-label-container:hover .sk-estimator-doc-link:hover,\n",
       ".sk-estimator-doc-link:hover {\n",
       "  /* unfitted */\n",
       "  background-color: var(--sklearn-color-unfitted-level-3);\n",
       "  color: var(--sklearn-color-background);\n",
       "  text-decoration: none;\n",
       "}\n",
       "\n",
       "div.sk-estimator.fitted:hover .sk-estimator-doc-link.fitted:hover,\n",
       ".sk-estimator-doc-link.fitted:hover,\n",
       "div.sk-label-container:hover .sk-estimator-doc-link.fitted:hover,\n",
       ".sk-estimator-doc-link.fitted:hover {\n",
       "  /* fitted */\n",
       "  background-color: var(--sklearn-color-fitted-level-3);\n",
       "  color: var(--sklearn-color-background);\n",
       "  text-decoration: none;\n",
       "}\n",
       "\n",
       "/* Span, style for the box shown on hovering the info icon */\n",
       ".sk-estimator-doc-link span {\n",
       "  display: none;\n",
       "  z-index: 9999;\n",
       "  position: relative;\n",
       "  font-weight: normal;\n",
       "  right: .2ex;\n",
       "  padding: .5ex;\n",
       "  margin: .5ex;\n",
       "  width: min-content;\n",
       "  min-width: 20ex;\n",
       "  max-width: 50ex;\n",
       "  color: var(--sklearn-color-text);\n",
       "  box-shadow: 2pt 2pt 4pt #999;\n",
       "  /* unfitted */\n",
       "  background: var(--sklearn-color-unfitted-level-0);\n",
       "  border: .5pt solid var(--sklearn-color-unfitted-level-3);\n",
       "}\n",
       "\n",
       ".sk-estimator-doc-link.fitted span {\n",
       "  /* fitted */\n",
       "  background: var(--sklearn-color-fitted-level-0);\n",
       "  border: var(--sklearn-color-fitted-level-3);\n",
       "}\n",
       "\n",
       ".sk-estimator-doc-link:hover span {\n",
       "  display: block;\n",
       "}\n",
       "\n",
       "/* \"?\"-specific style due to the `<a>` HTML tag */\n",
       "\n",
       "#sk-container-id-4 a.estimator_doc_link {\n",
       "  float: right;\n",
       "  font-size: 1rem;\n",
       "  line-height: 1em;\n",
       "  font-family: monospace;\n",
       "  background-color: var(--sklearn-color-background);\n",
       "  border-radius: 1rem;\n",
       "  height: 1rem;\n",
       "  width: 1rem;\n",
       "  text-decoration: none;\n",
       "  /* unfitted */\n",
       "  color: var(--sklearn-color-unfitted-level-1);\n",
       "  border: var(--sklearn-color-unfitted-level-1) 1pt solid;\n",
       "}\n",
       "\n",
       "#sk-container-id-4 a.estimator_doc_link.fitted {\n",
       "  /* fitted */\n",
       "  border: var(--sklearn-color-fitted-level-1) 1pt solid;\n",
       "  color: var(--sklearn-color-fitted-level-1);\n",
       "}\n",
       "\n",
       "/* On hover */\n",
       "#sk-container-id-4 a.estimator_doc_link:hover {\n",
       "  /* unfitted */\n",
       "  background-color: var(--sklearn-color-unfitted-level-3);\n",
       "  color: var(--sklearn-color-background);\n",
       "  text-decoration: none;\n",
       "}\n",
       "\n",
       "#sk-container-id-4 a.estimator_doc_link.fitted:hover {\n",
       "  /* fitted */\n",
       "  background-color: var(--sklearn-color-fitted-level-3);\n",
       "}\n",
       "</style><div id=\"sk-container-id-4\" class=\"sk-top-container\"><div class=\"sk-text-repr-fallback\"><pre>Pipeline(steps=[(&#x27;gen_encoding&#x27;,\n",
       "                 ColumnTransformer(remainder=&#x27;passthrough&#x27;,\n",
       "                                   transformers=[(&#x27;gender&#x27;, OneHotEncoder(),\n",
       "                                                  [1])])),\n",
       "                (&#x27;subs_time&#x27;,\n",
       "                 ColumnTransformer(remainder=&#x27;passthrough&#x27;,\n",
       "                                   transformers=[(&#x27;duration_in_days&#x27;,\n",
       "                                                  durationTransform(),\n",
       "                                                  [4, 7])]))])</pre><b>In a Jupyter environment, please rerun this cell to show the HTML representation or trust the notebook. <br />On GitHub, the HTML representation is unable to render, please try loading this page with nbviewer.org.</b></div><div class=\"sk-container\" hidden><div class=\"sk-item sk-dashed-wrapped\"><div class=\"sk-label-container\"><div class=\"sk-label  sk-toggleable\"><input class=\"sk-toggleable__control sk-hidden--visually\" id=\"sk-estimator-id-34\" type=\"checkbox\" ><label for=\"sk-estimator-id-34\" class=\"sk-toggleable__label  sk-toggleable__label-arrow\"><div><div>Pipeline</div></div><div><a class=\"sk-estimator-doc-link \" rel=\"noreferrer\" target=\"_blank\" href=\"https://scikit-learn.org/1.6/modules/generated/sklearn.pipeline.Pipeline.html\">?<span>Documentation for Pipeline</span></a><span class=\"sk-estimator-doc-link \">i<span>Not fitted</span></span></div></label><div class=\"sk-toggleable__content \"><pre>Pipeline(steps=[(&#x27;gen_encoding&#x27;,\n",
       "                 ColumnTransformer(remainder=&#x27;passthrough&#x27;,\n",
       "                                   transformers=[(&#x27;gender&#x27;, OneHotEncoder(),\n",
       "                                                  [1])])),\n",
       "                (&#x27;subs_time&#x27;,\n",
       "                 ColumnTransformer(remainder=&#x27;passthrough&#x27;,\n",
       "                                   transformers=[(&#x27;duration_in_days&#x27;,\n",
       "                                                  durationTransform(),\n",
       "                                                  [4, 7])]))])</pre></div> </div></div><div class=\"sk-serial\"><div class=\"sk-item sk-dashed-wrapped\"><div class=\"sk-label-container\"><div class=\"sk-label  sk-toggleable\"><input class=\"sk-toggleable__control sk-hidden--visually\" id=\"sk-estimator-id-35\" type=\"checkbox\" ><label for=\"sk-estimator-id-35\" class=\"sk-toggleable__label  sk-toggleable__label-arrow\"><div><div>gen_encoding: ColumnTransformer</div></div><div><a class=\"sk-estimator-doc-link \" rel=\"noreferrer\" target=\"_blank\" href=\"https://scikit-learn.org/1.6/modules/generated/sklearn.compose.ColumnTransformer.html\">?<span>Documentation for gen_encoding: ColumnTransformer</span></a></div></label><div class=\"sk-toggleable__content \"><pre>ColumnTransformer(remainder=&#x27;passthrough&#x27;,\n",
       "                  transformers=[(&#x27;gender&#x27;, OneHotEncoder(), [1])])</pre></div> </div></div><div class=\"sk-parallel\"><div class=\"sk-parallel-item\"><div class=\"sk-item\"><div class=\"sk-label-container\"><div class=\"sk-label  sk-toggleable\"><input class=\"sk-toggleable__control sk-hidden--visually\" id=\"sk-estimator-id-36\" type=\"checkbox\" ><label for=\"sk-estimator-id-36\" class=\"sk-toggleable__label  sk-toggleable__label-arrow\"><div><div>gender</div></div></label><div class=\"sk-toggleable__content \"><pre>[1]</pre></div> </div></div><div class=\"sk-serial\"><div class=\"sk-item\"><div class=\"sk-estimator  sk-toggleable\"><input class=\"sk-toggleable__control sk-hidden--visually\" id=\"sk-estimator-id-37\" type=\"checkbox\" ><label for=\"sk-estimator-id-37\" class=\"sk-toggleable__label  sk-toggleable__label-arrow\"><div><div>OneHotEncoder</div></div><div><a class=\"sk-estimator-doc-link \" rel=\"noreferrer\" target=\"_blank\" href=\"https://scikit-learn.org/1.6/modules/generated/sklearn.preprocessing.OneHotEncoder.html\">?<span>Documentation for OneHotEncoder</span></a></div></label><div class=\"sk-toggleable__content \"><pre>OneHotEncoder()</pre></div> </div></div></div></div></div><div class=\"sk-parallel-item\"><div class=\"sk-item\"><div class=\"sk-label-container\"><div class=\"sk-label  sk-toggleable\"><input class=\"sk-toggleable__control sk-hidden--visually\" id=\"sk-estimator-id-38\" type=\"checkbox\" ><label for=\"sk-estimator-id-38\" class=\"sk-toggleable__label  sk-toggleable__label-arrow\"><div><div>remainder</div></div></label><div class=\"sk-toggleable__content \"><pre></pre></div> </div></div><div class=\"sk-serial\"><div class=\"sk-item\"><div class=\"sk-estimator  sk-toggleable\"><input class=\"sk-toggleable__control sk-hidden--visually\" id=\"sk-estimator-id-39\" type=\"checkbox\" ><label for=\"sk-estimator-id-39\" class=\"sk-toggleable__label  sk-toggleable__label-arrow\"><div><div>passthrough</div></div></label><div class=\"sk-toggleable__content \"><pre>passthrough</pre></div> </div></div></div></div></div></div></div><div class=\"sk-item sk-dashed-wrapped\"><div class=\"sk-label-container\"><div class=\"sk-label  sk-toggleable\"><input class=\"sk-toggleable__control sk-hidden--visually\" id=\"sk-estimator-id-40\" type=\"checkbox\" ><label for=\"sk-estimator-id-40\" class=\"sk-toggleable__label  sk-toggleable__label-arrow\"><div><div>subs_time: ColumnTransformer</div></div><div><a class=\"sk-estimator-doc-link \" rel=\"noreferrer\" target=\"_blank\" href=\"https://scikit-learn.org/1.6/modules/generated/sklearn.compose.ColumnTransformer.html\">?<span>Documentation for subs_time: ColumnTransformer</span></a></div></label><div class=\"sk-toggleable__content \"><pre>ColumnTransformer(remainder=&#x27;passthrough&#x27;,\n",
       "                  transformers=[(&#x27;duration_in_days&#x27;, durationTransform(),\n",
       "                                 [4, 7])])</pre></div> </div></div><div class=\"sk-parallel\"><div class=\"sk-parallel-item\"><div class=\"sk-item\"><div class=\"sk-label-container\"><div class=\"sk-label  sk-toggleable\"><input class=\"sk-toggleable__control sk-hidden--visually\" id=\"sk-estimator-id-41\" type=\"checkbox\" ><label for=\"sk-estimator-id-41\" class=\"sk-toggleable__label  sk-toggleable__label-arrow\"><div><div>duration_in_days</div></div></label><div class=\"sk-toggleable__content \"><pre>[4, 7]</pre></div> </div></div><div class=\"sk-serial\"><div class=\"sk-item\"><div class=\"sk-estimator  sk-toggleable\"><input class=\"sk-toggleable__control sk-hidden--visually\" id=\"sk-estimator-id-42\" type=\"checkbox\" ><label for=\"sk-estimator-id-42\" class=\"sk-toggleable__label  sk-toggleable__label-arrow\"><div><div>durationTransform</div></div></label><div class=\"sk-toggleable__content \"><pre>durationTransform()</pre></div> </div></div></div></div></div><div class=\"sk-parallel-item\"><div class=\"sk-item\"><div class=\"sk-label-container\"><div class=\"sk-label  sk-toggleable\"><input class=\"sk-toggleable__control sk-hidden--visually\" id=\"sk-estimator-id-43\" type=\"checkbox\" ><label for=\"sk-estimator-id-43\" class=\"sk-toggleable__label  sk-toggleable__label-arrow\"><div><div>remainder</div></div></label><div class=\"sk-toggleable__content \"><pre></pre></div> </div></div><div class=\"sk-serial\"><div class=\"sk-item\"><div class=\"sk-estimator  sk-toggleable\"><input class=\"sk-toggleable__control sk-hidden--visually\" id=\"sk-estimator-id-44\" type=\"checkbox\" ><label for=\"sk-estimator-id-44\" class=\"sk-toggleable__label  sk-toggleable__label-arrow\"><div><div>passthrough</div></div></label><div class=\"sk-toggleable__content \"><pre>passthrough</pre></div> </div></div></div></div></div></div></div></div></div></div></div>"
      ],
      "text/plain": [
       "Pipeline(steps=[('gen_encoding',\n",
       "                 ColumnTransformer(remainder='passthrough',\n",
       "                                   transformers=[('gender', OneHotEncoder(),\n",
       "                                                  [1])])),\n",
       "                ('subs_time',\n",
       "                 ColumnTransformer(remainder='passthrough',\n",
       "                                   transformers=[('duration_in_days',\n",
       "                                                  durationTransform(),\n",
       "                                                  [4, 7])]))])"
      ]
     },
     "execution_count": 132,
     "metadata": {},
     "output_type": "execute_result"
    }
   ],
   "source": [
    "pipe = Pipeline([\n",
    "    ('gen_encoding', gen_encoding),\n",
    "    ('subs_time', subs_time)\n",
    "])\n",
    "pipe"
   ]
  },
  {
   "cell_type": "code",
   "execution_count": 133,
   "id": "799de64b",
   "metadata": {},
   "outputs": [],
   "source": [
    "result_from_pipe = pipe.fit_transform(x_train,y_train)\n",
    "x_train = pd.DataFrame(result_from_pipe, columns=[\"duration_of_subscription\",\"female\",\"male\",\"city\",\"registered_via\",\"ammount_paid\",\"is_auto_reniew\",\"payment_methord\",\"payment_plan_duration\"])\n",
    "result_from_test = pipe.fit_transform(x_test,y_test)\n",
    "x_test = pd.DataFrame(result_from_test, columns=[\"duration_of_subscription\",\"female\",\"male\",\"city\",\"registered_via\",\"ammount_paid\",\"is_auto_reniew\",\"payment_methord\",\"payment_plan_duration\"])\n",
    "result_from_valid = pipe.fit_transform(x_valid,y_valid)\n",
    "x_valid = pd.DataFrame(result_from_valid, columns=[\"duration_of_subscription\",\"female\",\"male\",\"city\",\"registered_via\",\"ammount_paid\",\"is_auto_reniew\",\"payment_methord\",\"payment_plan_duration\"])"
   ]
  },
  {
   "cell_type": "markdown",
   "id": "4507e2eb",
   "metadata": {},
   "source": [
    "## Final DataFrame"
   ]
  },
  {
   "cell_type": "code",
   "execution_count": 134,
   "id": "385a6951",
   "metadata": {},
   "outputs": [
    {
     "data": {
      "text/html": [
       "<div>\n",
       "<style scoped>\n",
       "    .dataframe tbody tr th:only-of-type {\n",
       "        vertical-align: middle;\n",
       "    }\n",
       "\n",
       "    .dataframe tbody tr th {\n",
       "        vertical-align: top;\n",
       "    }\n",
       "\n",
       "    .dataframe thead th {\n",
       "        text-align: right;\n",
       "    }\n",
       "</style>\n",
       "<table border=\"1\" class=\"dataframe\">\n",
       "  <thead>\n",
       "    <tr style=\"text-align: right;\">\n",
       "      <th></th>\n",
       "      <th>duration_of_subscription</th>\n",
       "      <th>female</th>\n",
       "      <th>male</th>\n",
       "      <th>city</th>\n",
       "      <th>registered_via</th>\n",
       "      <th>ammount_paid</th>\n",
       "      <th>is_auto_reniew</th>\n",
       "      <th>payment_methord</th>\n",
       "      <th>payment_plan_duration</th>\n",
       "    </tr>\n",
       "  </thead>\n",
       "  <tbody>\n",
       "    <tr>\n",
       "      <th>0</th>\n",
       "      <td>0</td>\n",
       "      <td>0.0</td>\n",
       "      <td>1.0</td>\n",
       "      <td>6</td>\n",
       "      <td>7</td>\n",
       "      <td>129</td>\n",
       "      <td>1</td>\n",
       "      <td>41</td>\n",
       "      <td>30</td>\n",
       "    </tr>\n",
       "    <tr>\n",
       "      <th>1</th>\n",
       "      <td>49</td>\n",
       "      <td>0.0</td>\n",
       "      <td>1.0</td>\n",
       "      <td>15</td>\n",
       "      <td>9</td>\n",
       "      <td>149</td>\n",
       "      <td>1</td>\n",
       "      <td>39</td>\n",
       "      <td>30</td>\n",
       "    </tr>\n",
       "    <tr>\n",
       "      <th>2</th>\n",
       "      <td>50</td>\n",
       "      <td>0.0</td>\n",
       "      <td>1.0</td>\n",
       "      <td>15</td>\n",
       "      <td>9</td>\n",
       "      <td>149</td>\n",
       "      <td>1</td>\n",
       "      <td>39</td>\n",
       "      <td>30</td>\n",
       "    </tr>\n",
       "    <tr>\n",
       "      <th>3</th>\n",
       "      <td>61</td>\n",
       "      <td>1.0</td>\n",
       "      <td>0.0</td>\n",
       "      <td>4</td>\n",
       "      <td>7</td>\n",
       "      <td>149</td>\n",
       "      <td>1</td>\n",
       "      <td>39</td>\n",
       "      <td>30</td>\n",
       "    </tr>\n",
       "    <tr>\n",
       "      <th>4</th>\n",
       "      <td>60</td>\n",
       "      <td>1.0</td>\n",
       "      <td>0.0</td>\n",
       "      <td>4</td>\n",
       "      <td>7</td>\n",
       "      <td>149</td>\n",
       "      <td>1</td>\n",
       "      <td>39</td>\n",
       "      <td>30</td>\n",
       "    </tr>\n",
       "  </tbody>\n",
       "</table>\n",
       "</div>"
      ],
      "text/plain": [
       "  duration_of_subscription female male city registered_via ammount_paid  \\\n",
       "0                        0    0.0  1.0    6              7          129   \n",
       "1                       49    0.0  1.0   15              9          149   \n",
       "2                       50    0.0  1.0   15              9          149   \n",
       "3                       61    1.0  0.0    4              7          149   \n",
       "4                       60    1.0  0.0    4              7          149   \n",
       "\n",
       "  is_auto_reniew payment_methord payment_plan_duration  \n",
       "0              1              41                    30  \n",
       "1              1              39                    30  \n",
       "2              1              39                    30  \n",
       "3              1              39                    30  \n",
       "4              1              39                    30  "
      ]
     },
     "execution_count": 134,
     "metadata": {},
     "output_type": "execute_result"
    }
   ],
   "source": [
    "x_train.head()"
   ]
  },
  {
   "cell_type": "markdown",
   "id": "58f16568",
   "metadata": {},
   "source": [
    "## Training Models and calculating the accuracy"
   ]
  },
  {
   "cell_type": "markdown",
   "id": "7c07ff52",
   "metadata": {},
   "source": [
    "### 1. Logistic regression model"
   ]
  },
  {
   "cell_type": "code",
   "execution_count": 135,
   "id": "28e32a52",
   "metadata": {},
   "outputs": [
    {
     "name": "stdout",
     "output_type": "stream",
     "text": [
      "Accuracy for Logistic Regression: 66.91%\n"
     ]
    },
    {
     "name": "stderr",
     "output_type": "stream",
     "text": [
      "C:\\Users\\apoor\\AppData\\Local\\Packages\\PythonSoftwareFoundation.Python.3.13_qbz5n2kfra8p0\\LocalCache\\local-packages\\Python313\\site-packages\\sklearn\\linear_model\\_logistic.py:465: ConvergenceWarning: lbfgs failed to converge (status=1):\n",
      "STOP: TOTAL NO. OF ITERATIONS REACHED LIMIT.\n",
      "\n",
      "Increase the number of iterations (max_iter) or scale the data as shown in:\n",
      "    https://scikit-learn.org/stable/modules/preprocessing.html\n",
      "Please also refer to the documentation for alternative solver options:\n",
      "    https://scikit-learn.org/stable/modules/linear_model.html#logistic-regression\n",
      "  n_iter_i = _check_optimize_result(\n"
     ]
    }
   ],
   "source": [
    "lg = LogisticRegression()\n",
    "lg.fit(x_train,y_train)\n",
    "y_pred = lg.predict(x_test)\n",
    "score = accuracy_score(y_pred,y_test)\n",
    "print(\"Accuracy for Logistic Regression: \"+str(round((score*100),2))+\"%\")"
   ]
  },
  {
   "cell_type": "markdown",
   "id": "525be57e",
   "metadata": {},
   "source": [
    "### 2. Decision Tree model"
   ]
  },
  {
   "cell_type": "code",
   "execution_count": 136,
   "id": "0407234d",
   "metadata": {},
   "outputs": [
    {
     "name": "stdout",
     "output_type": "stream",
     "text": [
      "Accuracy for Descision Trees: 80.94%\n"
     ]
    }
   ],
   "source": [
    "dst = tree.DecisionTreeClassifier()\n",
    "dst.fit(x_train,y_train)\n",
    "y_pred = dst.predict(x_test)\n",
    "score = accuracy_score(y_pred,y_test)\n",
    "print(\"Accuracy for Descision Trees: \"+str(round((score*100),2))+\"%\")"
   ]
  },
  {
   "cell_type": "markdown",
   "id": "1cf4dbaa",
   "metadata": {},
   "source": [
    "### 3. Random forest model"
   ]
  },
  {
   "cell_type": "code",
   "execution_count": 137,
   "id": "67ed922d",
   "metadata": {},
   "outputs": [
    {
     "name": "stdout",
     "output_type": "stream",
     "text": [
      "Accuracy for Random Forest: 85.79%\n"
     ]
    }
   ],
   "source": [
    "rf = RandomForestClassifier(max_depth=10,random_state=1)\n",
    "rf.fit(x_train,y_train)\n",
    "y_pred = rf.predict(x_test)\n",
    "score = accuracy_score(y_pred,y_test)\n",
    "print(\"Accuracy for Random Forest: \"+str(round((score*100),2))+\"%\")"
   ]
  },
  {
   "cell_type": "markdown",
   "id": "1db0547a",
   "metadata": {},
   "source": [
    "### 4. Support Vector Machines"
   ]
  },
  {
   "cell_type": "code",
   "execution_count": 138,
   "id": "0433e83e",
   "metadata": {},
   "outputs": [
    {
     "name": "stdout",
     "output_type": "stream",
     "text": [
      "Accuracy for SVM: 67.81%\n"
     ]
    }
   ],
   "source": [
    "svm = SVC()\n",
    "svm.fit(x_train,y_train)\n",
    "y_pred = svm.predict(x_test)\n",
    "score = accuracy_score(y_pred,y_test)\n",
    "print(\"Accuracy for SVM: \"+str(round((score*100),2))+\"%\")"
   ]
  },
  {
   "cell_type": "markdown",
   "id": "cd183dd6",
   "metadata": {},
   "source": [
    "### 5. K-Nearest Neighbours"
   ]
  },
  {
   "cell_type": "code",
   "execution_count": 139,
   "id": "4a05b84d",
   "metadata": {},
   "outputs": [
    {
     "name": "stdout",
     "output_type": "stream",
     "text": [
      "Accuracy for K-Nearest Neighbour: 83.09%\n"
     ]
    }
   ],
   "source": [
    "knn = KNeighborsClassifier(n_neighbors=5)\n",
    "knn.fit(x_train,y_train)\n",
    "y_pred = knn.predict(x_test)\n",
    "score = accuracy_score(y_pred,y_test)\n",
    "print(\"Accuracy for K-Nearest Neighbour: \"+str(round((score*100),2))+\"%\")"
   ]
  },
  {
   "cell_type": "markdown",
   "id": "60c55024",
   "metadata": {},
   "source": [
    "## Using Joblib for saving the Random Forest Model using JobLib"
   ]
  },
  {
   "cell_type": "code",
   "execution_count": 140,
   "id": "410151c1",
   "metadata": {},
   "outputs": [
    {
     "data": {
      "text/plain": [
       "['model/model.joblib']"
      ]
     },
     "execution_count": 140,
     "metadata": {},
     "output_type": "execute_result"
    }
   ],
   "source": [
    "joblib.dump(rf,\"model/model.joblib\")"
   ]
  }
 ],
 "metadata": {
  "kernelspec": {
   "display_name": "Python 3",
   "language": "python",
   "name": "python3"
  },
  "language_info": {
   "codemirror_mode": {
    "name": "ipython",
    "version": 3
   },
   "file_extension": ".py",
   "mimetype": "text/x-python",
   "name": "python",
   "nbconvert_exporter": "python",
   "pygments_lexer": "ipython3",
   "version": "3.13.5"
  }
 },
 "nbformat": 4,
 "nbformat_minor": 5
}
